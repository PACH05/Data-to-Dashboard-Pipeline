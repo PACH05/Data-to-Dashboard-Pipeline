{
 "cells": [
  {
   "cell_type": "markdown",
   "metadata": {
    "application/vnd.databricks.v1+cell": {
     "cellMetadata": {
      "byteLimit": 2048000,
      "rowLimit": 10000
     },
     "inputWidgets": {},
     "nuid": "9cc93274-a457-47bc-b44e-6fc5b15c421b",
     "showTitle": false,
     "tableResultSettingsMap": {},
     "title": ""
    }
   },
   "source": [
    "Transformation 1 - Create Customer Table"
   ]
  },
  {
   "cell_type": "code",
   "execution_count": 0,
   "metadata": {
    "application/vnd.databricks.v1+cell": {
     "cellMetadata": {
      "byteLimit": 2048000,
      "rowLimit": 10000
     },
     "inputWidgets": {},
     "nuid": "75c74bf5-11d4-42ca-92b9-badc6da6c3c9",
     "showTitle": false,
     "tableResultSettingsMap": {},
     "title": ""
    }
   },
   "outputs": [],
   "source": [
    "from pyspark.sql import SparkSession"
   ]
  },
  {
   "cell_type": "code",
   "execution_count": 0,
   "metadata": {
    "application/vnd.databricks.v1+cell": {
     "cellMetadata": {
      "byteLimit": 2048000,
      "rowLimit": 10000
     },
     "inputWidgets": {},
     "nuid": "723aceb1-6ffa-4688-a297-776f8a2bfe12",
     "showTitle": false,
     "tableResultSettingsMap": {},
     "title": ""
    }
   },
   "outputs": [],
   "source": [
    "spark = SparkSession.builder.getOrCreate()"
   ]
  },
  {
   "cell_type": "code",
   "execution_count": 0,
   "metadata": {
    "application/vnd.databricks.v1+cell": {
     "cellMetadata": {
      "byteLimit": 2048000,
      "rowLimit": 10000
     },
     "inputWidgets": {},
     "nuid": "4beeb794-5e40-4911-aa9d-07afbac0c99e",
     "showTitle": false,
     "tableResultSettingsMap": {},
     "title": ""
    }
   },
   "outputs": [],
   "source": [
    "main_df = spark.read.table(\"workspace.sales.global_superstore\")"
   ]
  },
  {
   "cell_type": "code",
   "execution_count": 0,
   "metadata": {
    "application/vnd.databricks.v1+cell": {
     "cellMetadata": {
      "byteLimit": 2048000,
      "rowLimit": 10000
     },
     "inputWidgets": {},
     "nuid": "bacebabf-fc0a-4c56-bce0-1491efb90138",
     "showTitle": false,
     "tableResultSettingsMap": {},
     "title": ""
    }
   },
   "outputs": [],
   "source": [
    "customer_df = main_df.select(\"customer_id\", \"customer_name\", \"Segment\", \"City\", \"State\", \"Country\", \"postal_code\", \"Market\", \"Region\")"
   ]
  },
  {
   "cell_type": "code",
   "execution_count": 0,
   "metadata": {
    "application/vnd.databricks.v1+cell": {
     "cellMetadata": {
      "byteLimit": 2048000,
      "rowLimit": 10000
     },
     "inputWidgets": {},
     "nuid": "22948a4b-4a4d-4206-b54a-1a7ad46178f0",
     "showTitle": false,
     "tableResultSettingsMap": {},
     "title": ""
    }
   },
   "outputs": [
    {
     "output_type": "stream",
     "name": "stdout",
     "output_type": "stream",
     "text": [
      "+-----------+---------------+-----------+--------+--------------------+--------------+-----------+------+--------------+\n|customer_id|  customer_name|    Segment|    City|               State|       Country|postal_code|Market|        Region|\n+-----------+---------------+-----------+--------+--------------------+--------------+-----------+------+--------------+\n|   RE-19405|Ricardo Emerson|   Consumer|Mandurah|   Western Australia|     Australia|          0|  APAC|       Oceania|\n|   OT-18730|    Olvera Toch|   Consumer|Bergheim|North Rhine-Westp...|       Germany|          0|    EU|       Central|\n|   DW-13480|  Dianna Wilson|Home Office|  Sydney|     New South Wales|     Australia|          0|  APAC|       Oceania|\n|   DK-13090|      Dave Kipp|   Consumer|    Lyon|         Rh�ne-Alpes|        France|          0|    EU|       Central|\n|   MK-17905|Michael Kennedy|  Corporate|Shanghai|            Shanghai|         China|          0|  APAC|    North Asia|\n|   AR-10510| Andrew Roberts|   Consumer|Armidale|     New South Wales|     Australia|          0|  APAC|       Oceania|\n|    LP-7095|      Liz Preis|   Consumer|  Agadir|    Souss-Massa-Dra�|       Morocco|          0|Africa|        Africa|\n|   TM-21490|  Tony Molinari|   Consumer|Surabaya|          Jawa Timur|     Indonesia|          0|  APAC|Southeast Asia|\n|   RF-19840|Roy Franz�sisch|   Consumer| Managua|             Managua|     Nicaragua|          0| LATAM|       Central|\n|   RO-19780|   Rose O'Brian|   Consumer|  London|             England|United Kingdom|          0|    EU|         North|\n+-----------+---------------+-----------+--------+--------------------+--------------+-----------+------+--------------+\nonly showing top 10 rows\n"
     ]
    }
   ],
   "source": [
    "customer_df.show(10)"
   ]
  },
  {
   "cell_type": "markdown",
   "metadata": {
    "application/vnd.databricks.v1+cell": {
     "cellMetadata": {
      "byteLimit": 2048000,
      "rowLimit": 10000
     },
     "inputWidgets": {},
     "nuid": "f180fbff-1ff9-4a10-b6c7-da2284543e1a",
     "showTitle": false,
     "tableResultSettingsMap": {},
     "title": ""
    }
   },
   "source": [
    "Remove duplicate customers"
   ]
  },
  {
   "cell_type": "code",
   "execution_count": 0,
   "metadata": {
    "application/vnd.databricks.v1+cell": {
     "cellMetadata": {
      "byteLimit": 2048000,
      "rowLimit": 10000
     },
     "inputWidgets": {},
     "nuid": "13f06f70-8a3a-469e-9d54-1a980f178367",
     "showTitle": false,
     "tableResultSettingsMap": {},
     "title": ""
    }
   },
   "outputs": [],
   "source": [
    "customer_df_temp = customer_df.dropDuplicates([\"customer_id\"])"
   ]
  },
  {
   "cell_type": "code",
   "execution_count": 0,
   "metadata": {
    "application/vnd.databricks.v1+cell": {
     "cellMetadata": {
      "byteLimit": 2048000,
      "rowLimit": 10000
     },
     "inputWidgets": {},
     "nuid": "54ea06ed-e267-4491-8a2c-c43fa1ced2be",
     "showTitle": false,
     "tableResultSettingsMap": {},
     "title": ""
    }
   },
   "outputs": [],
   "source": [
    "customer_df_temp.write.mode(\"overwrite\").saveAsTable(\"sales.customer_temp\")"
   ]
  },
  {
   "cell_type": "code",
   "execution_count": 0,
   "metadata": {
    "application/vnd.databricks.v1+cell": {
     "cellMetadata": {
      "byteLimit": 2048000,
      "implicitDf": true,
      "rowLimit": 10000
     },
     "inputWidgets": {},
     "nuid": "b4b75be5-c443-438e-95ec-012932866495",
     "showTitle": false,
     "tableResultSettingsMap": {},
     "title": ""
    }
   },
   "outputs": [],
   "source": [
    "%sql\n",
    "CREATE TABLE IF NOT EXISTS sales.customers --main table to hold customer data\n",
    "LIKE sales.customer_temp"
   ]
  }
 ],
 "metadata": {
  "application/vnd.databricks.v1+notebook": {
   "computePreferences": null,
   "dashboards": [],
   "environmentMetadata": {
    "base_environment": "",
    "environment_version": "2"
   },
   "inputWidgetPreferences": null,
   "language": "python",
   "notebookMetadata": {
    "mostRecentlyExecutedCommandWithImplicitDF": {
     "commandId": 7483364436546417,
     "dataframes": [
      "_sqldf"
     ]
    },
    "pythonIndentUnit": 4
   },
   "notebookName": "Transformation - Customers Table",
   "widgets": {}
  },
  "language_info": {
   "name": "python"
  }
 },
 "nbformat": 4,
 "nbformat_minor": 0
}